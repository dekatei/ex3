{
 "cells": [
  {
   "cell_type": "code",
   "execution_count": 1,
   "metadata": {},
   "outputs": [],
   "source": [
    "import numpy as np"
   ]
  },
  {
   "cell_type": "code",
   "execution_count": 2,
   "metadata": {},
   "outputs": [
    {
     "name": "stdout",
     "output_type": "stream",
     "text": [
      "[3.97766165 0.02233835 0.08885439 3.         3.80193774 1.55495813\n",
      " 0.7530204  0.19806226 3.91114561 3.46610374 2.73068205 3.65247755\n",
      " 0.34752245 0.53389626 1.         3.2469796  2.44504187 2.14946019\n",
      " 1.26931795 1.85053981]\n"
     ]
    }
   ],
   "source": [
    "\n",
    "n: int =20\n",
    "\n",
    "\n",
    "\n",
    "def Tij(A, i, j) :\n",
    "    T = np.eye(n)\n",
    "    if A[i,i]==A[j,j]:\n",
    "        theta = np.pi/4\n",
    "    else:\n",
    "        theta =np.arctan(2.0* A[i,j]/(A[i,i]-A[j,j]))/2\n",
    "    T[i, i], T[i, j], T[j, i], T[j, j] = np.cos(theta), -np.sin(theta), np.sin(theta), np.cos(theta)\n",
    "    return T\n",
    "\n",
    "A = 2 * np.eye(n) - np.eye(n, k=1) - np.eye(n, k=-1)\n",
    "\n",
    "\n",
    "def Jakobi(A):\n",
    "    for _ in range(5):\n",
    "        for j in range(n) :\n",
    "            for i in range(n) :\n",
    "                # print(Tij(A, i, j))\n",
    "                if i != j  and abs(A[i,j])>10**(-6):\n",
    "                    #print(Tij(A, i, j))\n",
    "                    C = np.dot(np.transpose(Tij(A, i, j)), np.dot(A, Tij(A, i, j)))\n",
    "                    A=C\n",
    "\n",
    "\n",
    "    return C\n",
    "S = Jakobi(A)\n",
    "print(np.diag(S))\n",
    "\n",
    "\n",
    "\n",
    "\n"
   ]
  },
  {
   "cell_type": "code",
   "execution_count": 3,
   "metadata": {},
   "outputs": [
    {
     "name": "stdout",
     "output_type": "stream",
     "text": [
      "0.95\n",
      "[3.74819231 0.27967575 0.42541739 3.5385573  3.6348377  0.58144493\n",
      " 0.57133508 0.66534492 3.66441352 3.358769   2.9139851  3.40255786\n",
      " 0.48957089 0.66725263 0.97239586 3.25225406 2.51664528 2.16430713\n",
      " 1.31021034 1.84283296]\n",
      "0.6032300917132534\n",
      "[3.96930445 0.0592208  0.08372417 3.00448187 3.81603812 1.54000598\n",
      " 0.74052839 0.18879753 3.8818876  3.46675567 2.72926726 3.66279696\n",
      " 0.34247939 0.55234796 1.00034147 3.24733689 2.44522533 2.14953081\n",
      " 1.2693759  1.85055345]\n",
      "0.09257449342892721\n",
      "[3.97765727 0.02237676 0.08882837 3.0000006  3.80193782 1.55495798\n",
      " 0.75301955 0.1980525  3.91114763 3.46610379 2.73068205 3.65247755\n",
      " 0.34752244 0.53389626 1.         3.2469796  2.44504187 2.14946019\n",
      " 1.26931795 1.85053981]\n",
      "0.0007403595059976009\n",
      "[3.97766165 0.02233835 0.08885439 3.         3.80193774 1.55495813\n",
      " 0.7530204  0.19806226 3.91114561 3.46610374 2.73068205 3.65247755\n",
      " 0.34752245 0.53389626 1.         3.2469796  2.44504187 2.14946019\n",
      " 1.26931795 1.85053981]\n",
      "1.1736032146103526e-09\n",
      "[3.97766165 0.02233835 0.08885439 3.         3.80193774 1.55495813\n",
      " 0.7530204  0.19806226 3.91114561 3.46610374 2.73068205 3.65247755\n",
      " 0.34752245 0.53389626 1.         3.2469796  2.44504187 2.14946019\n",
      " 1.26931795 1.85053981]\n",
      "eigenvalues: [3.97766165 0.02233835 0.08885439 3.         3.80193774 1.55495813\n",
      " 0.7530204  0.19806226 3.91114561 3.46610374 2.73068205 3.65247755\n",
      " 0.34752245 0.53389626 1.         3.2469796  2.44504187 2.14946019\n",
      " 1.26931795 1.85053981]\n"
     ]
    }
   ],
   "source": [
    "def abbs(F):\n",
    "    B = np.zeros((np.shape(F)[0],np.shape(F)[0]))\n",
    "    for j in range(np.shape(F)[0]) :\n",
    "            for i in range(np.shape(F)[0]) :\n",
    "                B[i,j]= abs(F[i,j])\n",
    "    return B\n",
    "#abbs()\n",
    "def Jakobi2(A):\n",
    "    while abs(np.sum(abbs(A))/np.sum(np.diag(abbs(A))) -1) >10**-10:\n",
    "        print(abs(np.sum(abbs(A))/np.sum(np.diag(abbs(A))) -1)) #отношение суммы внедиагональных элементов(по модулю) к следу матрицы\n",
    "        for j in range(n) :\n",
    "            for i in range(n) :\n",
    "                # print(Tij(A, i, j))\n",
    "                if i != j and abs(A[i,j])!=0:\n",
    "                    #print(Tij(A, i, j))\n",
    "                    C = np.dot(np.transpose(Tij(A, i, j)), np.dot(A, Tij(A, i, j)))\n",
    "                    A = C\n",
    "\n",
    "        print(np.diag(A))\n",
    "        #print(np.sum(np.diag(A)))\n",
    "    return C\n",
    "S2 = Jakobi2(A)\n",
    "print('eigenvalues:',np.diag(S2))\n"
   ]
  },
  {
   "cell_type": "code",
   "execution_count": null,
   "metadata": {},
   "outputs": [],
   "source": []
  }
 ],
 "metadata": {
  "kernelspec": {
   "display_name": "Python 3",
   "language": "python",
   "name": "python3"
  },
  "language_info": {
   "codemirror_mode": {
    "name": "ipython",
    "version": 3
   },
   "file_extension": ".py",
   "mimetype": "text/x-python",
   "name": "python",
   "nbconvert_exporter": "python",
   "pygments_lexer": "ipython3",
   "version": "3.7.6"
  }
 },
 "nbformat": 4,
 "nbformat_minor": 4
}
